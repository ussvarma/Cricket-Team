{
  "nbformat": 4,
  "nbformat_minor": 0,
  "metadata": {
    "colab": {
      "name": " Artificial Neural Network for regression",
      "provenance": [],
      "collapsed_sections": [
        "_mSLlAT9_eyI",
        "NwHWK2i8spVA"
      ],
      "include_colab_link": true
    },
    "kernelspec": {
      "name": "python3",
      "display_name": "Python 3"
    }
  },
  "cells": [
    {
      "cell_type": "markdown",
      "metadata": {
        "id": "view-in-github",
        "colab_type": "text"
      },
      "source": [
        "<a href=\"https://colab.research.google.com/github/ussvarma/Cricket-Team/blob/main/Artificial_Neural_Network_for_regression.ipynb\" target=\"_parent\"><img src=\"https://colab.research.google.com/assets/colab-badge.svg\" alt=\"Open In Colab\"/></a>"
      ]
    },
    {
      "cell_type": "markdown",
      "metadata": {
        "id": "3cbb7fRy-eyr"
      },
      "source": [
        "# Artificial Neural Network"
      ]
    },
    {
      "cell_type": "code",
      "source": [
        ""
      ],
      "metadata": {
        "id": "1thXcDZH1HWv"
      },
      "execution_count": null,
      "outputs": []
    },
    {
      "cell_type": "markdown",
      "metadata": {
        "id": "8sNDnxE2-pwE"
      },
      "source": [
        "### Importing the libraries"
      ]
    },
    {
      "cell_type": "code",
      "source": [
        "import numpy as np\n",
        "import pandas as pd\n",
        "import tensorflow as tf\n",
        "import matplotlib.pyplot as plt"
      ],
      "metadata": {
        "id": "BVVGRpcP8R5u"
      },
      "execution_count": null,
      "outputs": []
    },
    {
      "cell_type": "markdown",
      "metadata": {
        "id": "AG3FQEch-yuA"
      },
      "source": [
        "## Part 1 - Data Preprocessing"
      ]
    },
    {
      "cell_type": "markdown",
      "metadata": {
        "id": "-4zq8Mza_D9O"
      },
      "source": [
        "### Importing the dataset"
      ]
    },
    {
      "cell_type": "code",
      "source": [
        "dataset=pd.read_excel(\"Folds5x2_pp.xlsx\")\n",
        "x=dataset.iloc[:,:-1].values\n",
        "y=dataset.iloc[:,-1].values"
      ],
      "metadata": {
        "id": "hQjaLEPn9JYl"
      },
      "execution_count": null,
      "outputs": []
    },
    {
      "cell_type": "code",
      "source": [
        "print(x)\n",
        "print(y)"
      ],
      "metadata": {
        "colab": {
          "base_uri": "https://localhost:8080/"
        },
        "id": "MxkIL0tlDPEw",
        "outputId": "be2d12e5-64c7-4093-98e7-760ca0e033ac"
      },
      "execution_count": null,
      "outputs": [
        {
          "output_type": "stream",
          "name": "stdout",
          "text": [
            "[[  14.96   41.76 1024.07   73.17]\n",
            " [  25.18   62.96 1020.04   59.08]\n",
            " [   5.11   39.4  1012.16   92.14]\n",
            " ...\n",
            " [  31.32   74.33 1012.92   36.48]\n",
            " [  24.48   69.45 1013.86   62.39]\n",
            " [  21.6    62.52 1017.23   67.87]]\n",
            "[463.26 444.37 488.56 ... 429.57 435.74 453.28]\n"
          ]
        }
      ]
    },
    {
      "cell_type": "markdown",
      "metadata": {
        "id": "VC6omXel_Up0"
      },
      "source": [
        "### Splitting the dataset into the Training set and Test set"
      ]
    },
    {
      "cell_type": "code",
      "source": [
        "from sklearn.model_selection import train_test_split\n",
        "x_train, x_test, y_train,y_test=train_test_split(x,y,test_size=0.2,random_state=0)"
      ],
      "metadata": {
        "id": "YMdkdmc_FHcR"
      },
      "execution_count": null,
      "outputs": []
    },
    {
      "cell_type": "markdown",
      "metadata": {
        "id": "_mSLlAT9_eyI"
      },
      "source": [
        "## Part 2 - Building the ANN"
      ]
    },
    {
      "cell_type": "markdown",
      "metadata": {
        "id": "CsBULd_f_wLY"
      },
      "source": [
        "### Initializing the ANN"
      ]
    },
    {
      "cell_type": "code",
      "source": [
        "ann=tf.keras.models.Sequential()"
      ],
      "metadata": {
        "id": "ffmCh99lKL39"
      },
      "execution_count": null,
      "outputs": []
    },
    {
      "cell_type": "markdown",
      "metadata": {
        "id": "iitAFJS_ABUn"
      },
      "source": [
        "### Adding the input layer and the first hidden layer"
      ]
    },
    {
      "cell_type": "code",
      "source": [
        "ann.add(tf.keras.layers.Dense(units=6,activation='relu')) \n"
      ],
      "metadata": {
        "id": "WA-rynj2NCjr"
      },
      "execution_count": null,
      "outputs": []
    },
    {
      "cell_type": "markdown",
      "metadata": {
        "id": "-lb4kK_wAKbs"
      },
      "source": [
        "### Adding the second hidden layer"
      ]
    },
    {
      "cell_type": "code",
      "source": [
        "ann.add(tf.keras.layers.Dense(units=6,activation='relu'))\n",
        "\n"
      ],
      "metadata": {
        "id": "j8kafsvcQ_5X"
      },
      "execution_count": null,
      "outputs": []
    },
    {
      "cell_type": "code",
      "source": [
        "ann.add(tf.keras.layers.Dense(units=6,activation='relu'))\n",
        "\n"
      ],
      "metadata": {
        "id": "K9FED6eajm3Q"
      },
      "execution_count": null,
      "outputs": []
    },
    {
      "cell_type": "code",
      "source": [
        "ann.add(tf.keras.layers.Dense(units=6,activation='relu'))\n",
        "\n"
      ],
      "metadata": {
        "id": "NaB7ThO1jnuE"
      },
      "execution_count": null,
      "outputs": []
    },
    {
      "cell_type": "markdown",
      "metadata": {
        "id": "jwMOmKb3AdBY"
      },
      "source": [
        "### Adding the output layer"
      ]
    },
    {
      "cell_type": "code",
      "source": [
        "ann.add(tf.keras.layers.Dense(units=1))"
      ],
      "metadata": {
        "id": "BKLA1JE1RTIW"
      },
      "execution_count": null,
      "outputs": []
    },
    {
      "cell_type": "markdown",
      "metadata": {
        "id": "fq7e4fF6A1yy"
      },
      "source": [
        "## Part 3 - Training the ANN"
      ]
    },
    {
      "cell_type": "markdown",
      "metadata": {
        "id": "qDeylAs2An25"
      },
      "source": [
        "### Compiling the ANN"
      ]
    },
    {
      "cell_type": "code",
      "source": [
        "ann.compile(optimizer=\"sgd\",loss='mean_squared_error' )"
      ],
      "metadata": {
        "id": "YaAR5LqRZbP0"
      },
      "execution_count": null,
      "outputs": []
    },
    {
      "cell_type": "markdown",
      "metadata": {
        "id": "YjVuiybYOo7r"
      },
      "source": [
        "### Training the ANN model on the Training set"
      ]
    },
    {
      "cell_type": "code",
      "source": [
        "history=ann.fit(x_train,y_train,batch_size=32,epochs=100)"
      ],
      "metadata": {
        "id": "eJTl-tifcgNe"
      },
      "execution_count": null,
      "outputs": []
    },
    {
      "cell_type": "code",
      "source": [
        "#plt.plot(history.history['loss'])\n",
        "plt.title('loss graph')\n",
        "plt.ylabel('loss')\n",
        "plt.xlabel('epoch')\n",
        "plt.legend(['train'],loc='upper left')\n",
        "plt.show()"
      ],
      "metadata": {
        "colab": {
          "base_uri": "https://localhost:8080/",
          "height": 295
        },
        "id": "WQ2GV1UehJQv",
        "outputId": "709bebdb-c02b-46aa-a718-dfad58f54365"
      },
      "execution_count": null,
      "outputs": [
        {
          "output_type": "display_data",
          "data": {
            "image/png": "[encoded data removed]",
            "text/plain": [
              "<Figure size 432x288 with 1 Axes>"
            ]
          },
          "metadata": {
            "needs_background": "light"
          }
        }
      ]
    },
    {
      "cell_type": "code",
      "source": [
        ""
      ],
      "metadata": {
        "colab": {
          "base_uri": "https://localhost:8080/"
        },
        "id": "c8LUqaTV95uO",
        "outputId": "a4373f95-1f99-4a7c-eec7-234cd2295cdc"
      },
      "execution_count": null,
      "outputs": [
        {
          "output_type": "stream",
          "name": "stdout",
          "text": [
            "60/60 [==============================] - 0s 1ms/step - loss: 331785.5938\n"
          ]
        },
        {
          "output_type": "execute_result",
          "data": {
            "text/plain": [
              "{'loss': 331785.59375}"
            ]
          },
          "metadata": {},
          "execution_count": 47
        }
      ]
    },
    {
      "cell_type": "markdown",
      "metadata": {
        "id": "0H0zKKNEBLD5"
      },
      "source": [
        "### Predicting the results of the Test set"
      ]
    },
    {
      "cell_type": "code",
      "source": [
        "y_pred=ann.predict(x_test)\n",
        "np.set_printoptions(precision=2) \n",
        "print(np.concatenate((y_pred.reshape(len(y_pred),1),y_test.reshape(len(y_test),1)),1)) #we are converting into column matrix, verticalconcatenation=1,horizontalconcatenation=0"
      ],
      "metadata": {
        "id": "ujRAccAffDRN",
        "colab": {
          "base_uri": "https://localhost:8080/"
        },
        "outputId": "a4a220f7-fd68-404a-9cf9-28700cfb1a97"
      },
      "execution_count": null,
      "outputs": [
        {
          "output_type": "stream",
          "name": "stdout",
          "text": [
            "[[-114.32  431.23]\n",
            " [-121.29  460.01]\n",
            " [-119.79  461.14]\n",
            " ...\n",
            " [-122.15  473.26]\n",
            " [-124.26  438.  ]\n",
            " [-124.    463.28]]\n"
          ]
        }
      ]
    },
    {
      "cell_type": "markdown",
      "source": [
        "#second one\n"
      ],
      "metadata": {
        "id": "qTZjWX0vzxfk"
      }
    },
    {
      "cell_type": "code",
      "source": [
        "from sklearn.model_selection import train_test_split\n"
      ],
      "metadata": {
        "id": "zsFX_JJfJbUA"
      },
      "execution_count": null,
      "outputs": []
    },
    {
      "cell_type": "code",
      "source": [
        "x_train2, x_test2, y_train2,y_test2=train_test_split(x,y,test_size=0.1,random_state=0)"
      ],
      "metadata": {
        "id": "Rcr2ssq50Cn_"
      },
      "execution_count": null,
      "outputs": []
    },
    {
      "cell_type": "code",
      "source": [
        ""
      ],
      "metadata": {
        "id": "ON3LKXq3JZrF"
      },
      "execution_count": null,
      "outputs": []
    },
    {
      "cell_type": "code",
      "source": [
        ""
      ],
      "metadata": {
        "id": "lRM9qwNCamXd"
      },
      "execution_count": null,
      "outputs": []
    },
    {
      "cell_type": "code",
      "source": [
        "ann2=tf.keras.models.Sequential()"
      ],
      "metadata": {
        "id": "QCuWJ5ym04iM"
      },
      "execution_count": null,
      "outputs": []
    },
    {
      "cell_type": "code",
      "source": [
        "ann2.add(tf.keras.layers.Dense(units=10,activation=\"relu\"))"
      ],
      "metadata": {
        "id": "kVmQXGSB08Ff"
      },
      "execution_count": null,
      "outputs": []
    },
    {
      "cell_type": "code",
      "source": [
        "ann2.add(tf.keras.layers.Dense(units=4,activation='relu'))"
      ],
      "metadata": {
        "id": "t49D2xfw0_2H"
      },
      "execution_count": null,
      "outputs": []
    },
    {
      "cell_type": "code",
      "source": [
        "ann2.add(tf.keras.layers.Dense(units=20,activation='relu'))"
      ],
      "metadata": {
        "id": "bZuxPmi34e1P"
      },
      "execution_count": null,
      "outputs": []
    },
    {
      "cell_type": "code",
      "source": [
        "ann2.add(tf.keras.layers.Dense(units=1))"
      ],
      "metadata": {
        "id": "wxh2AAIt1D3e"
      },
      "execution_count": null,
      "outputs": []
    },
    {
      "cell_type": "code",
      "source": [
        "ann2.compile(optimizer=\"SGD\",loss='mean_absolute_error' )"
      ],
      "metadata": {
        "id": "rWTj5APi1Mai"
      },
      "execution_count": null,
      "outputs": []
    },
    {
      "cell_type": "code",
      "source": [
        "#history2=ann2.fit(x_train2,y_train2,batch_size=32,epochs=200)"
      ],
      "metadata": {
        "id": "SdT0lkEE1PwN"
      },
      "execution_count": null,
      "outputs": []
    },
    {
      "cell_type": "code",
      "source": [
        "#plt.plot(history2.history['loss'])\n",
        "plt.title('loss graph')\n",
        "plt.ylabel('loss')\n",
        "plt.xlabel('epoch')\n",
        "plt.legend(['train'],loc='upper left')\n",
        "plt.show()"
      ],
      "metadata": {
        "colab": {
          "base_uri": "https://localhost:8080/",
          "height": 295
        },
        "id": "NBqQrrcC1VsN",
        "outputId": "9d6fd8cb-1997-40c1-e394-0c09d4221ac9"
      },
      "execution_count": null,
      "outputs": [
        {
          "output_type": "display_data",
          "data": {
            "image/png": "[encoded data removed]",
            "text/plain": [
              "<Figure size 432x288 with 1 Axes>"
            ]
          },
          "metadata": {
            "needs_background": "light"
          }
        }
      ]
    },
    {
      "cell_type": "markdown",
      "source": [
        "##lets try above model with ideal learning *rate*"
      ],
      "metadata": {
        "id": "u021cqFhIN7b"
      }
    },
    {
      "cell_type": "code",
      "source": [
        "from sklearn.model_selection import train_test_split\n",
        "x_train2a, x_test2a, y_train2a,y_test2a=train_test_split(x,y,test_size=0.2,random_state=0)"
      ],
      "metadata": {
        "id": "kPZaELxSJpxm"
      },
      "execution_count": null,
      "outputs": []
    },
    {
      "cell_type": "code",
      "source": [
        "x_train2a, x_test2a, y_train2a,y_test2a=train_test_split(x,y,test_size=0.1,random_state=0)"
      ],
      "metadata": {
        "id": "8LJ_KoKIIwtc"
      },
      "execution_count": null,
      "outputs": []
    },
    {
      "cell_type": "markdown",
      "source": [
        "#####same model as above"
      ],
      "metadata": {
        "id": "J2fOHWofLB9V"
      }
    },
    {
      "cell_type": "code",
      "source": [
        "ann_model_2a=tf.keras.models.Sequential()\n",
        "ann_model_2a.add(tf.keras.layers.Dense(units=10,activation=\"relu\"))"
      ],
      "metadata": {
        "id": "o9vJxkp8IeAk"
      },
      "execution_count": null,
      "outputs": []
    },
    {
      "cell_type": "code",
      "source": [
        "ann_model_2a.add(tf.keras.layers.Dense(units=4,activation=\"relu\"))\n",
        "ann_model_2a.add(tf.keras.layers.Dense(units=20,activation=\"relu\"))\n"
      ],
      "metadata": {
        "id": "ubQkT5eKLX_L"
      },
      "execution_count": null,
      "outputs": []
    },
    {
      "cell_type": "code",
      "source": [
        "ann_model_2a.add(tf.keras.layers.Dense(units=1))"
      ],
      "metadata": {
        "id": "dPMw2d4uLby3"
      },
      "execution_count": null,
      "outputs": []
    },
    {
      "cell_type": "code",
      "source": [
        "ann_model_2a.compile(optimizer=\"SGD\",loss='mean_absolute_error' )"
      ],
      "metadata": {
        "id": "441r_RpNL0-b"
      },
      "execution_count": null,
      "outputs": []
    },
    {
      "cell_type": "markdown",
      "source": [
        "#####creating a learning callback"
      ],
      "metadata": {
        "id": "xd6c6_gjMBtO"
      }
    },
    {
      "cell_type": "code",
      "source": [
        "lr_schedular=tf.keras.callbacks.LearningRateScheduler(lambda epoch:1e-4*10**(epoch/20))\n",
        "history_2a=ann_model_2a.fit(x_train2a,y_train2a,batch_size=32,epochs=100,callbacks=[lr_schedular])"
      ],
      "metadata": {
        "colab": {
          "base_uri": "https://localhost:8080/"
        },
        "id": "BAvTA633MFQk",
        "outputId": "181412f0-c1bd-44ec-c723-0fe96ebc2136"
      },
      "execution_count": null,
      "outputs": [
        {
          "output_type": "stream",
          "name": "stdout",
          "text": [
            "Epoch 1/100\n",
            "270/270 [==============================] - 2s 3ms/step - loss: 64.1862 - lr: 1.0000e-04\n",
            "Epoch 2/100\n",
            "270/270 [==============================] - 1s 3ms/step - loss: 57.9570 - lr: 1.1220e-04\n",
            "Epoch 3/100\n",
            "270/270 [==============================] - 1s 4ms/step - loss: 63.0892 - lr: 1.2589e-04\n",
            "Epoch 4/100\n",
            "270/270 [==============================] - 1s 3ms/step - loss: 71.8021 - lr: 1.4125e-04\n",
            "Epoch 5/100\n",
            "270/270 [==============================] - 1s 3ms/step - loss: 86.4709 - lr: 1.5849e-04\n",
            "Epoch 6/100\n",
            "270/270 [==============================] - 1s 3ms/step - loss: 103.3689 - lr: 1.7783e-04\n",
            "Epoch 7/100\n",
            "270/270 [==============================] - 1s 3ms/step - loss: 121.2493 - lr: 1.9953e-04\n",
            "Epoch 8/100\n",
            "270/270 [==============================] - 1s 2ms/step - loss: 123.5900 - lr: 2.2387e-04\n",
            "Epoch 9/100\n",
            "270/270 [==============================] - 1s 3ms/step - loss: 141.7645 - lr: 2.5119e-04\n",
            "Epoch 10/100\n",
            "270/270 [==============================] - 1s 2ms/step - loss: 205.9242 - lr: 2.8184e-04\n",
            "Epoch 11/100\n",
            "270/270 [==============================] - 1s 3ms/step - loss: 198.0433 - lr: 3.1623e-04\n",
            "Epoch 12/100\n",
            "270/270 [==============================] - 1s 3ms/step - loss: 187.6815 - lr: 3.5481e-04\n",
            "Epoch 13/100\n",
            "270/270 [==============================] - 1s 4ms/step - loss: 230.5972 - lr: 3.9811e-04\n",
            "Epoch 14/100\n",
            "270/270 [==============================] - 1s 3ms/step - loss: 286.1113 - lr: 4.4668e-04\n",
            "Epoch 15/100\n",
            "270/270 [==============================] - 0s 1ms/step - loss: 275.6128 - lr: 5.0119e-04\n",
            "Epoch 16/100\n",
            "270/270 [==============================] - 0s 1ms/step - loss: 271.5663 - lr: 5.6234e-04\n",
            "Epoch 17/100\n",
            "270/270 [==============================] - 0s 1ms/step - loss: 386.2660 - lr: 6.3096e-04\n",
            "Epoch 18/100\n",
            "270/270 [==============================] - 0s 1ms/step - loss: 450.7101 - lr: 7.0795e-04\n",
            "Epoch 19/100\n",
            "270/270 [==============================] - 0s 1ms/step - loss: 453.4682 - lr: 7.9433e-04\n",
            "Epoch 20/100\n",
            "270/270 [==============================] - 0s 1ms/step - loss: 453.2202 - lr: 8.9125e-04\n",
            "Epoch 21/100\n",
            "270/270 [==============================] - 0s 1ms/step - loss: 452.9316 - lr: 0.0010\n",
            "Epoch 22/100\n",
            "270/270 [==============================] - 0s 1ms/step - loss: 450.9107 - lr: 0.0011\n",
            "Epoch 23/100\n",
            "270/270 [==============================] - 0s 2ms/step - loss: 452.3098 - lr: 0.0013\n",
            "Epoch 24/100\n",
            "270/270 [==============================] - 0s 1ms/step - loss: 451.8219 - lr: 0.0014\n",
            "Epoch 25/100\n",
            "270/270 [==============================] - 0s 1ms/step - loss: 451.1237 - lr: 0.0016\n",
            "Epoch 26/100\n",
            "270/270 [==============================] - 0s 1ms/step - loss: 449.8750 - lr: 0.0018\n",
            "Epoch 27/100\n",
            "270/270 [==============================] - 0s 1ms/step - loss: 446.7306 - lr: 0.0020\n",
            "Epoch 28/100\n",
            "270/270 [==============================] - 0s 1ms/step - loss: 392.5229 - lr: 0.0022\n",
            "Epoch 29/100\n",
            "270/270 [==============================] - 0s 1ms/step - loss: 14.9575 - lr: 0.0025\n",
            "Epoch 30/100\n",
            "270/270 [==============================] - 0s 2ms/step - loss: 14.9871 - lr: 0.0028\n",
            "Epoch 31/100\n",
            "270/270 [==============================] - 1s 4ms/step - loss: 15.1748 - lr: 0.0032\n",
            "Epoch 32/100\n",
            "270/270 [==============================] - 1s 3ms/step - loss: 15.2290 - lr: 0.0035\n",
            "Epoch 33/100\n",
            "270/270 [==============================] - 1s 4ms/step - loss: 15.4353 - lr: 0.0040\n",
            "Epoch 34/100\n",
            "270/270 [==============================] - 1s 5ms/step - loss: 15.7315 - lr: 0.0045\n",
            "Epoch 35/100\n",
            "270/270 [==============================] - 1s 3ms/step - loss: 17.3856 - lr: 0.0050\n",
            "Epoch 36/100\n",
            "270/270 [==============================] - 1s 2ms/step - loss: 19.9495 - lr: 0.0056\n",
            "Epoch 37/100\n",
            "270/270 [==============================] - 1s 3ms/step - loss: 26.7227 - lr: 0.0063\n",
            "Epoch 38/100\n",
            "270/270 [==============================] - 1s 2ms/step - loss: 32.0814 - lr: 0.0071\n",
            "Epoch 39/100\n",
            "270/270 [==============================] - 1s 3ms/step - loss: 35.1567 - lr: 0.0079\n",
            "Epoch 40/100\n",
            "270/270 [==============================] - 1s 3ms/step - loss: 38.8243 - lr: 0.0089\n",
            "Epoch 41/100\n",
            "270/270 [==============================] - 1s 4ms/step - loss: 42.6438 - lr: 0.0100\n",
            "Epoch 42/100\n",
            "270/270 [==============================] - 1s 3ms/step - loss: 46.8809 - lr: 0.0112\n",
            "Epoch 43/100\n",
            "270/270 [==============================] - 1s 2ms/step - loss: 49.9629 - lr: 0.0126\n",
            "Epoch 44/100\n",
            "270/270 [==============================] - 1s 3ms/step - loss: 53.2216 - lr: 0.0141\n",
            "Epoch 45/100\n",
            "270/270 [==============================] - 1s 3ms/step - loss: 55.0733 - lr: 0.0158\n",
            "Epoch 46/100\n",
            "270/270 [==============================] - 1s 3ms/step - loss: 58.1983 - lr: 0.0178\n",
            "Epoch 47/100\n",
            "270/270 [==============================] - 1s 4ms/step - loss: 49.4333 - lr: 0.0200\n",
            "Epoch 48/100\n",
            "270/270 [==============================] - 1s 2ms/step - loss: 17.6992 - lr: 0.0224\n",
            "Epoch 49/100\n",
            "270/270 [==============================] - 1s 3ms/step - loss: 14.9362 - lr: 0.0251\n",
            "Epoch 50/100\n",
            "270/270 [==============================] - 1s 3ms/step - loss: 15.0837 - lr: 0.0282\n",
            "Epoch 51/100\n",
            "270/270 [==============================] - 1s 4ms/step - loss: 15.2274 - lr: 0.0316\n",
            "Epoch 52/100\n",
            "270/270 [==============================] - 1s 5ms/step - loss: 15.2316 - lr: 0.0355\n",
            "Epoch 53/100\n",
            "270/270 [==============================] - 1s 3ms/step - loss: 15.4768 - lr: 0.0398\n",
            "Epoch 54/100\n",
            "270/270 [==============================] - 1s 4ms/step - loss: 15.8484 - lr: 0.0447\n",
            "Epoch 55/100\n",
            "270/270 [==============================] - 1s 3ms/step - loss: 15.9918 - lr: 0.0501\n",
            "Epoch 56/100\n",
            "270/270 [==============================] - 1s 2ms/step - loss: 17.8067 - lr: 0.0562\n",
            "Epoch 57/100\n",
            "270/270 [==============================] - 1s 3ms/step - loss: 23.5274 - lr: 0.0631\n",
            "Epoch 58/100\n",
            "270/270 [==============================] - 1s 3ms/step - loss: 28.0316 - lr: 0.0708\n",
            "Epoch 59/100\n",
            "270/270 [==============================] - 0s 1ms/step - loss: 33.3886 - lr: 0.0794\n",
            "Epoch 60/100\n",
            "270/270 [==============================] - 0s 2ms/step - loss: 37.0578 - lr: 0.0891\n",
            "Epoch 61/100\n",
            "270/270 [==============================] - 0s 2ms/step - loss: 41.1280 - lr: 0.1000\n",
            "Epoch 62/100\n",
            "270/270 [==============================] - 0s 1ms/step - loss: 46.0084 - lr: 0.1122\n",
            "Epoch 63/100\n",
            "270/270 [==============================] - 0s 1ms/step - loss: 50.7508 - lr: 0.1259\n",
            "Epoch 64/100\n",
            "270/270 [==============================] - 0s 1ms/step - loss: 55.1474 - lr: 0.1413\n",
            "Epoch 65/100\n",
            "270/270 [==============================] - 0s 2ms/step - loss: 60.5870 - lr: 0.1585\n",
            "Epoch 66/100\n",
            "270/270 [==============================] - 0s 2ms/step - loss: 66.7405 - lr: 0.1778\n",
            "Epoch 67/100\n",
            "270/270 [==============================] - 0s 1ms/step - loss: 72.4280 - lr: 0.1995\n",
            "Epoch 68/100\n",
            "270/270 [==============================] - 0s 1ms/step - loss: 77.1469 - lr: 0.2239\n",
            "Epoch 69/100\n",
            "270/270 [==============================] - 0s 1ms/step - loss: 88.3404 - lr: 0.2512\n",
            "Epoch 70/100\n",
            "270/270 [==============================] - 0s 1ms/step - loss: 104.5360 - lr: 0.2818\n",
            "Epoch 71/100\n",
            "270/270 [==============================] - 0s 1ms/step - loss: 108.8615 - lr: 0.3162\n",
            "Epoch 72/100\n",
            "270/270 [==============================] - 0s 1ms/step - loss: 123.0865 - lr: 0.3548\n",
            "Epoch 73/100\n",
            "270/270 [==============================] - 0s 1ms/step - loss: 136.2926 - lr: 0.3981\n",
            "Epoch 74/100\n",
            "270/270 [==============================] - 0s 1ms/step - loss: 133.6941 - lr: 0.4467\n",
            "Epoch 75/100\n",
            "270/270 [==============================] - 0s 1ms/step - loss: 141.7634 - lr: 0.5012\n",
            "Epoch 76/100\n",
            "270/270 [==============================] - 0s 1ms/step - loss: 144.3677 - lr: 0.5623\n",
            "Epoch 77/100\n",
            "270/270 [==============================] - 0s 1ms/step - loss: 131.0074 - lr: 0.6310\n",
            "Epoch 78/100\n",
            "270/270 [==============================] - 0s 2ms/step - loss: 94.6236 - lr: 0.7079\n",
            "Epoch 79/100\n",
            "270/270 [==============================] - 0s 2ms/step - loss: 60.4039 - lr: 0.7943\n",
            "Epoch 80/100\n",
            "270/270 [==============================] - 0s 1ms/step - loss: 19.3746 - lr: 0.8913\n",
            "Epoch 81/100\n",
            "270/270 [==============================] - 0s 1ms/step - loss: 15.1853 - lr: 1.0000\n",
            "Epoch 82/100\n",
            "270/270 [==============================] - 0s 1ms/step - loss: 14.8756 - lr: 1.1220\n",
            "Epoch 83/100\n",
            "270/270 [==============================] - 0s 1ms/step - loss: 14.6853 - lr: 1.2589\n",
            "Epoch 84/100\n",
            "270/270 [==============================] - 0s 1ms/step - loss: 14.6757 - lr: 1.4125\n",
            "Epoch 85/100\n",
            "270/270 [==============================] - 0s 1ms/step - loss: 14.6792 - lr: 1.5849\n",
            "Epoch 86/100\n",
            "270/270 [==============================] - 0s 1ms/step - loss: 14.6778 - lr: 1.7783\n",
            "Epoch 87/100\n",
            "270/270 [==============================] - 0s 1ms/step - loss: 14.6829 - lr: 1.9953\n",
            "Epoch 88/100\n",
            "270/270 [==============================] - 0s 1ms/step - loss: 14.6924 - lr: 2.2387\n",
            "Epoch 89/100\n",
            "270/270 [==============================] - 0s 1ms/step - loss: 14.6865 - lr: 2.5119\n",
            "Epoch 90/100\n",
            "270/270 [==============================] - 0s 1ms/step - loss: 14.6852 - lr: 2.8184\n",
            "Epoch 91/100\n",
            "270/270 [==============================] - 0s 1ms/step - loss: 14.6930 - lr: 3.1623\n",
            "Epoch 92/100\n",
            "270/270 [==============================] - 0s 1ms/step - loss: 14.6993 - lr: 3.5481\n",
            "Epoch 93/100\n",
            "270/270 [==============================] - 0s 1ms/step - loss: 14.6958 - lr: 3.9811\n",
            "Epoch 94/100\n",
            "270/270 [==============================] - 0s 1ms/step - loss: 14.7069 - lr: 4.4668\n",
            "Epoch 95/100\n",
            "270/270 [==============================] - 0s 1ms/step - loss: 14.7050 - lr: 5.0119\n",
            "Epoch 96/100\n",
            "270/270 [==============================] - 0s 1ms/step - loss: 14.7239 - lr: 5.6234\n",
            "Epoch 97/100\n",
            "270/270 [==============================] - 0s 1ms/step - loss: 14.7177 - lr: 6.3096\n",
            "Epoch 98/100\n",
            "270/270 [==============================] - 0s 1ms/step - loss: 14.7383 - lr: 7.0795\n",
            "Epoch 99/100\n",
            "270/270 [==============================] - 0s 1ms/step - loss: 14.7164 - lr: 7.9433\n",
            "Epoch 100/100\n",
            "270/270 [==============================] - 0s 1ms/step - loss: 14.7343 - lr: 8.9125\n"
          ]
        }
      ]
    },
    {
      "cell_type": "markdown",
      "source": [
        "###### plotting learning rate vs loss"
      ],
      "metadata": {
        "id": "3311WRI0OivA"
      }
    },
    {
      "cell_type": "code",
      "source": [
        "lrs=1e-4*(10**(np.arange(100)/20))\n",
        "plt.figure(figsize=(15,7))\n",
        "plt.semilogx(lrs,history_2a.history['loss'])\n",
        "plt.xlabel('Learning Rate')\n",
        "plt.ylabel('loss')\n",
        "plt.title('learning rate vs loos')"
      ],
      "metadata": {
        "colab": {
          "base_uri": "https://localhost:8080/",
          "height": 480
        },
        "id": "9dz_IRzPOu5W",
        "outputId": "4fc04484-3687-4c25-b6c5-02c240ea987c"
      },
      "execution_count": null,
      "outputs": [
        {
          "output_type": "execute_result",
          "data": {
            "text/plain": [
              "Text(0.5, 1.0, 'learning rate vs loos')"
            ]
          },
          "metadata": {},
          "execution_count": 33
        },
        {
          "output_type": "display_data",
          "data": {
            "image/png": "[encoded data removed]",
            "text/plain": [
              "<Figure size 1080x504 with 1 Axes>"
            ]
          },
          "metadata": {
            "needs_background": "light"
          }
        }
      ]
    },
    {
      "cell_type": "markdown",
      "source": [
        "#####observations:\n",
        "      1.sgd is slower in computation.\n",
        "      2intializing with proper learning rate helps in faster computation"
      ],
      "metadata": {
        "id": "eLsx2ce1Upyd"
      }
    },
    {
      "cell_type": "markdown",
      "source": [
        "#third one\n"
      ],
      "metadata": {
        "id": "NwHWK2i8spVA"
      }
    },
    {
      "cell_type": "code",
      "source": [
        "x_train3, x_test3, y_train3,y_test3=train_test_split(x,y,test_size=0.1,random_state=0)"
      ],
      "metadata": {
        "id": "qsxB9Tc2ssX4"
      },
      "execution_count": null,
      "outputs": []
    },
    {
      "cell_type": "code",
      "source": [
        "ann3=tf.keras.models.Sequential()"
      ],
      "metadata": {
        "id": "G6wZxBoStTwG"
      },
      "execution_count": null,
      "outputs": []
    },
    {
      "cell_type": "code",
      "source": [
        "ann3.add(tf.keras.layers.Dense(units=2,activation=\"relu\"))"
      ],
      "metadata": {
        "id": "lZyQ0Cw-tUHh"
      },
      "execution_count": null,
      "outputs": []
    },
    {
      "cell_type": "code",
      "source": [
        "ann3.add(tf.keras.layers.Dense(units=1))"
      ],
      "metadata": {
        "id": "sUAG5YtGtVro"
      },
      "execution_count": null,
      "outputs": []
    },
    {
      "cell_type": "code",
      "source": [
        "ann3.compile(optimizer=\"adam\",loss='mean_absolute_error' )"
      ],
      "metadata": {
        "id": "l7FIZ1iatVgj"
      },
      "execution_count": null,
      "outputs": []
    },
    {
      "cell_type": "code",
      "source": [
        "ann3.fit(x_train3,y_train3,batch_size=32,epochs=100)"
      ],
      "metadata": {
        "id": "SVrJV7MutVTU",
        "colab": {
          "base_uri": "https://localhost:8080/"
        },
        "outputId": "a8212d0d-a4dc-4a0f-f859-41c6dbc2f17d"
      },
      "execution_count": null,
      "outputs": [
        {
          "output_type": "stream",
          "name": "stdout",
          "text": [
            "Epoch 1/100\n",
            "270/270 [==============================] - 1s 1ms/step - loss: 454.1702\n",
            "Epoch 2/100\n",
            "270/270 [==============================] - 0s 1ms/step - loss: 453.9004\n",
            "Epoch 3/100\n",
            "270/270 [==============================] - 0s 1ms/step - loss: 453.6304\n",
            "Epoch 4/100\n",
            "270/270 [==============================] - 0s 1ms/step - loss: 453.3603\n",
            "Epoch 5/100\n",
            "270/270 [==============================] - 0s 1ms/step - loss: 453.0904\n",
            "Epoch 6/100\n",
            "270/270 [==============================] - 0s 1ms/step - loss: 452.8202\n",
            "Epoch 7/100\n",
            "270/270 [==============================] - 0s 1ms/step - loss: 452.5504\n",
            "Epoch 8/100\n",
            "270/270 [==============================] - 0s 1ms/step - loss: 452.2803\n",
            "Epoch 9/100\n",
            "270/270 [==============================] - 0s 1ms/step - loss: 452.0104\n",
            "Epoch 10/100\n",
            "270/270 [==============================] - 0s 1ms/step - loss: 451.7403\n",
            "Epoch 11/100\n",
            "270/270 [==============================] - 0s 1ms/step - loss: 451.4704\n",
            "Epoch 12/100\n",
            "270/270 [==============================] - 0s 1ms/step - loss: 451.2005\n",
            "Epoch 13/100\n",
            "270/270 [==============================] - 0s 1ms/step - loss: 450.9303\n",
            "Epoch 14/100\n",
            "270/270 [==============================] - 0s 1ms/step - loss: 450.6603\n",
            "Epoch 15/100\n",
            "270/270 [==============================] - 0s 1ms/step - loss: 450.3906\n",
            "Epoch 16/100\n",
            "270/270 [==============================] - 0s 1ms/step - loss: 450.1204\n",
            "Epoch 17/100\n",
            "270/270 [==============================] - 0s 1ms/step - loss: 449.8505\n",
            "Epoch 18/100\n",
            "270/270 [==============================] - 0s 1ms/step - loss: 449.5804\n",
            "Epoch 19/100\n",
            "270/270 [==============================] - 0s 1ms/step - loss: 449.3104\n",
            "Epoch 20/100\n",
            "270/270 [==============================] - 0s 1ms/step - loss: 449.0408\n",
            "Epoch 21/100\n",
            "270/270 [==============================] - 0s 1ms/step - loss: 448.7706\n",
            "Epoch 22/100\n",
            "270/270 [==============================] - 0s 1ms/step - loss: 448.5006\n",
            "Epoch 23/100\n",
            "270/270 [==============================] - 0s 1ms/step - loss: 448.2307\n",
            "Epoch 24/100\n",
            "270/270 [==============================] - 0s 1ms/step - loss: 447.9608\n",
            "Epoch 25/100\n",
            "270/270 [==============================] - 0s 1ms/step - loss: 447.6907\n",
            "Epoch 26/100\n",
            "270/270 [==============================] - 0s 1ms/step - loss: 447.4207\n",
            "Epoch 27/100\n",
            "270/270 [==============================] - 0s 1ms/step - loss: 447.1506\n",
            "Epoch 28/100\n",
            "270/270 [==============================] - 0s 1ms/step - loss: 446.8809\n",
            "Epoch 29/100\n",
            "270/270 [==============================] - 0s 1ms/step - loss: 446.6108\n",
            "Epoch 30/100\n",
            "270/270 [==============================] - 0s 1ms/step - loss: 446.3408\n",
            "Epoch 31/100\n",
            "270/270 [==============================] - 0s 1ms/step - loss: 446.0706\n",
            "Epoch 32/100\n",
            "270/270 [==============================] - 0s 1ms/step - loss: 445.8005\n",
            "Epoch 33/100\n",
            "270/270 [==============================] - 0s 1ms/step - loss: 445.5305\n",
            "Epoch 34/100\n",
            "270/270 [==============================] - 0s 1ms/step - loss: 445.2603\n",
            "Epoch 35/100\n",
            "270/270 [==============================] - 0s 1ms/step - loss: 444.9903\n",
            "Epoch 36/100\n",
            "270/270 [==============================] - 0s 1ms/step - loss: 444.7203\n",
            "Epoch 37/100\n",
            "270/270 [==============================] - 0s 2ms/step - loss: 444.4499\n",
            "Epoch 38/100\n",
            "270/270 [==============================] - 0s 1ms/step - loss: 444.1797\n",
            "Epoch 39/100\n",
            "270/270 [==============================] - 0s 1ms/step - loss: 443.9099\n",
            "Epoch 40/100\n",
            "270/270 [==============================] - 0s 1ms/step - loss: 443.6398\n",
            "Epoch 41/100\n",
            "270/270 [==============================] - 0s 1ms/step - loss: 443.3696\n",
            "Epoch 42/100\n",
            "270/270 [==============================] - 0s 1ms/step - loss: 443.0993\n",
            "Epoch 43/100\n",
            "270/270 [==============================] - 0s 1ms/step - loss: 442.8293\n",
            "Epoch 44/100\n",
            "270/270 [==============================] - 0s 1ms/step - loss: 442.5590\n",
            "Epoch 45/100\n",
            "270/270 [==============================] - 0s 1ms/step - loss: 442.2890\n",
            "Epoch 46/100\n",
            "270/270 [==============================] - 0s 1ms/step - loss: 442.0190\n",
            "Epoch 47/100\n",
            "270/270 [==============================] - 0s 1ms/step - loss: 441.7489\n",
            "Epoch 48/100\n",
            "270/270 [==============================] - 0s 1ms/step - loss: 441.4788\n",
            "Epoch 49/100\n",
            "270/270 [==============================] - 0s 1ms/step - loss: 441.2089\n",
            "Epoch 50/100\n",
            "270/270 [==============================] - 0s 1ms/step - loss: 440.9387\n",
            "Epoch 51/100\n",
            "270/270 [==============================] - 0s 1ms/step - loss: 440.6686\n",
            "Epoch 52/100\n",
            "270/270 [==============================] - 0s 1ms/step - loss: 440.3983\n",
            "Epoch 53/100\n",
            "270/270 [==============================] - 0s 1ms/step - loss: 440.1281\n",
            "Epoch 54/100\n",
            "270/270 [==============================] - 0s 1ms/step - loss: 439.8583\n",
            "Epoch 55/100\n",
            "270/270 [==============================] - 0s 1ms/step - loss: 439.5881\n",
            "Epoch 56/100\n",
            "270/270 [==============================] - 0s 1ms/step - loss: 439.3179\n",
            "Epoch 57/100\n",
            "270/270 [==============================] - 0s 1ms/step - loss: 439.0478\n",
            "Epoch 58/100\n",
            "270/270 [==============================] - 0s 1ms/step - loss: 438.7777\n",
            "Epoch 59/100\n",
            "270/270 [==============================] - 0s 1ms/step - loss: 438.5076\n",
            "Epoch 60/100\n",
            "270/270 [==============================] - 0s 1ms/step - loss: 438.2377\n",
            "Epoch 61/100\n",
            "270/270 [==============================] - 0s 1ms/step - loss: 437.9676\n",
            "Epoch 62/100\n",
            "270/270 [==============================] - 0s 1ms/step - loss: 437.6979\n",
            "Epoch 63/100\n",
            "270/270 [==============================] - 0s 1ms/step - loss: 437.4281\n",
            "Epoch 64/100\n",
            "270/270 [==============================] - 0s 1ms/step - loss: 437.1582\n",
            "Epoch 65/100\n",
            "270/270 [==============================] - 0s 1ms/step - loss: 436.8883\n",
            "Epoch 66/100\n",
            "270/270 [==============================] - 0s 1ms/step - loss: 436.6184\n",
            "Epoch 67/100\n",
            "270/270 [==============================] - 0s 1ms/step - loss: 436.3486\n",
            "Epoch 68/100\n",
            "270/270 [==============================] - 0s 1ms/step - loss: 436.0786\n",
            "Epoch 69/100\n",
            "270/270 [==============================] - 0s 1ms/step - loss: 435.8088\n",
            "Epoch 70/100\n",
            "270/270 [==============================] - 0s 1ms/step - loss: 435.5390\n",
            "Epoch 71/100\n",
            "270/270 [==============================] - 0s 1ms/step - loss: 435.2691\n",
            "Epoch 72/100\n",
            "270/270 [==============================] - 0s 1ms/step - loss: 434.9995\n",
            "Epoch 73/100\n",
            "270/270 [==============================] - 0s 1ms/step - loss: 434.7294\n",
            "Epoch 74/100\n",
            "270/270 [==============================] - 0s 1ms/step - loss: 434.4597\n",
            "Epoch 75/100\n",
            "270/270 [==============================] - 0s 1ms/step - loss: 434.1897\n",
            "Epoch 76/100\n",
            "270/270 [==============================] - 0s 1ms/step - loss: 433.9200\n",
            "Epoch 77/100\n",
            "270/270 [==============================] - 0s 1ms/step - loss: 433.6500\n",
            "Epoch 78/100\n",
            "270/270 [==============================] - 0s 1ms/step - loss: 433.3802\n",
            "Epoch 79/100\n",
            "270/270 [==============================] - 0s 1ms/step - loss: 433.1103\n",
            "Epoch 80/100\n",
            "270/270 [==============================] - 0s 1ms/step - loss: 432.8405\n",
            "Epoch 81/100\n",
            "270/270 [==============================] - 0s 1ms/step - loss: 432.5706\n",
            "Epoch 82/100\n",
            "270/270 [==============================] - 0s 1ms/step - loss: 432.3008\n",
            "Epoch 83/100\n",
            "270/270 [==============================] - 0s 1ms/step - loss: 432.0308\n",
            "Epoch 84/100\n",
            "270/270 [==============================] - 0s 1ms/step - loss: 431.7610\n",
            "Epoch 85/100\n",
            "270/270 [==============================] - 0s 1ms/step - loss: 431.4912\n",
            "Epoch 86/100\n",
            "270/270 [==============================] - 0s 1ms/step - loss: 431.2215\n",
            "Epoch 87/100\n",
            "270/270 [==============================] - 0s 1ms/step - loss: 430.9514\n",
            "Epoch 88/100\n",
            "270/270 [==============================] - 0s 1ms/step - loss: 430.6818\n",
            "Epoch 89/100\n",
            "270/270 [==============================] - 0s 1ms/step - loss: 430.4119\n",
            "Epoch 90/100\n",
            "270/270 [==============================] - 0s 1ms/step - loss: 430.1419\n",
            "Epoch 91/100\n",
            "270/270 [==============================] - 0s 1ms/step - loss: 429.8722\n",
            "Epoch 92/100\n",
            "270/270 [==============================] - 0s 1ms/step - loss: 429.6023\n",
            "Epoch 93/100\n",
            "270/270 [==============================] - 0s 1ms/step - loss: 429.3324\n",
            "Epoch 94/100\n",
            "270/270 [==============================] - 0s 2ms/step - loss: 429.0627\n",
            "Epoch 95/100\n",
            "270/270 [==============================] - 0s 2ms/step - loss: 428.7926\n",
            "Epoch 96/100\n",
            "270/270 [==============================] - 0s 1ms/step - loss: 428.5229\n",
            "Epoch 97/100\n",
            "270/270 [==============================] - 0s 1ms/step - loss: 428.2530\n",
            "Epoch 98/100\n",
            "270/270 [==============================] - 0s 2ms/step - loss: 427.9832\n",
            "Epoch 99/100\n",
            "270/270 [==============================] - 0s 1ms/step - loss: 427.7133\n",
            "Epoch 100/100\n",
            "270/270 [==============================] - 0s 1ms/step - loss: 427.4436\n"
          ]
        },
        {
          "output_type": "execute_result",
          "data": {
            "text/plain": [
              "<keras.callbacks.History at 0x7f10bac7d5d0>"
            ]
          },
          "metadata": {},
          "execution_count": 39
        }
      ]
    },
    {
      "cell_type": "code",
      "source": [
        ""
      ],
      "metadata": {
        "id": "lLuL6lJEtVDk"
      },
      "execution_count": null,
      "outputs": []
    },
    {
      "cell_type": "markdown",
      "source": [
        "#fourth"
      ],
      "metadata": {
        "id": "U9mUILA8POIk"
      }
    },
    {
      "cell_type": "code",
      "source": [
        "x_train4, x_test4, y_train4,y_test4=train_test_split(x,y,test_size=0.1,random_state=0)"
      ],
      "metadata": {
        "id": "vTsmj-LFPTU8"
      },
      "execution_count": null,
      "outputs": []
    },
    {
      "cell_type": "code",
      "source": [
        "ann4=tf.keras.models.Sequential()"
      ],
      "metadata": {
        "id": "uqb2_RAVPdL5"
      },
      "execution_count": null,
      "outputs": []
    },
    {
      "cell_type": "code",
      "source": [
        ""
      ],
      "metadata": {
        "id": "msBCbprsPgif"
      },
      "execution_count": null,
      "outputs": []
    },
    {
      "cell_type": "code",
      "source": [
        "ann4.add(tf.keras.layers.Dense(units=1))"
      ],
      "metadata": {
        "id": "9TGyu-KCPir8"
      },
      "execution_count": null,
      "outputs": []
    },
    {
      "cell_type": "code",
      "source": [
        "ann4.compile(optimizer=\"adam\",loss='mean_absolute_percentage_error')"
      ],
      "metadata": {
        "id": "gWjnW1d5Pkz1"
      },
      "execution_count": null,
      "outputs": []
    },
    {
      "cell_type": "code",
      "source": [
        "ann4.fit(x_train4,y_train4,batch_size=32,epochs=100)"
      ],
      "metadata": {
        "id": "oGRxUQIBPm_t",
        "colab": {
          "base_uri": "https://localhost:8080/"
        },
        "outputId": "39f955d0-42a7-4e59-fe8f-283274f7fa9c"
      },
      "execution_count": null,
      "outputs": [
        {
          "output_type": "stream",
          "name": "stdout",
          "text": [
            "Epoch 1/100\n",
            "270/270 [==============================] - 1s 1ms/step - loss: 247.9407\n",
            "Epoch 2/100\n",
            "270/270 [==============================] - 0s 1ms/step - loss: 178.8060\n",
            "Epoch 3/100\n",
            "270/270 [==============================] - 0s 1ms/step - loss: 109.6778\n",
            "Epoch 4/100\n",
            "270/270 [==============================] - 0s 1ms/step - loss: 40.6302\n",
            "Epoch 5/100\n",
            "270/270 [==============================] - 0s 1ms/step - loss: 5.7115\n",
            "Epoch 6/100\n",
            "270/270 [==============================] - 0s 1ms/step - loss: 5.4793\n",
            "Epoch 7/100\n",
            "270/270 [==============================] - 0s 1ms/step - loss: 5.3763\n",
            "Epoch 8/100\n",
            "270/270 [==============================] - 0s 1ms/step - loss: 5.2579\n",
            "Epoch 9/100\n",
            "270/270 [==============================] - 0s 1ms/step - loss: 5.1195\n",
            "Epoch 10/100\n",
            "270/270 [==============================] - 0s 1ms/step - loss: 4.9653\n",
            "Epoch 11/100\n",
            "270/270 [==============================] - 0s 1ms/step - loss: 4.7975\n",
            "Epoch 12/100\n",
            "270/270 [==============================] - 0s 1ms/step - loss: 4.6104\n",
            "Epoch 13/100\n",
            "270/270 [==============================] - 0s 1ms/step - loss: 4.4092\n",
            "Epoch 14/100\n",
            "270/270 [==============================] - 0s 1ms/step - loss: 4.1858\n",
            "Epoch 15/100\n",
            "270/270 [==============================] - 1s 3ms/step - loss: 3.9637\n",
            "Epoch 16/100\n",
            "270/270 [==============================] - 0s 1ms/step - loss: 3.7143\n",
            "Epoch 17/100\n",
            "270/270 [==============================] - 0s 1ms/step - loss: 3.4692\n",
            "Epoch 18/100\n",
            "270/270 [==============================] - 0s 1ms/step - loss: 3.2030\n",
            "Epoch 19/100\n",
            "270/270 [==============================] - 0s 1ms/step - loss: 2.9422\n",
            "Epoch 20/100\n",
            "270/270 [==============================] - 0s 1ms/step - loss: 2.6716\n",
            "Epoch 21/100\n",
            "270/270 [==============================] - 0s 1ms/step - loss: 2.4151\n",
            "Epoch 22/100\n",
            "270/270 [==============================] - 0s 1ms/step - loss: 2.1643\n",
            "Epoch 23/100\n",
            "270/270 [==============================] - 0s 1ms/step - loss: 1.9154\n",
            "Epoch 24/100\n",
            "270/270 [==============================] - 0s 1ms/step - loss: 1.6984\n",
            "Epoch 25/100\n",
            "270/270 [==============================] - 0s 1ms/step - loss: 1.5016\n",
            "Epoch 26/100\n",
            "270/270 [==============================] - 0s 1ms/step - loss: 1.3470\n",
            "Epoch 27/100\n",
            "270/270 [==============================] - 0s 1ms/step - loss: 1.2096\n",
            "Epoch 28/100\n",
            "270/270 [==============================] - 0s 1ms/step - loss: 1.1243\n",
            "Epoch 29/100\n",
            "270/270 [==============================] - 0s 1ms/step - loss: 1.0734\n",
            "Epoch 30/100\n",
            "270/270 [==============================] - 0s 1ms/step - loss: 1.0428\n",
            "Epoch 31/100\n",
            "270/270 [==============================] - 0s 1ms/step - loss: 1.0077\n",
            "Epoch 32/100\n",
            "270/270 [==============================] - 0s 1ms/step - loss: 0.9911\n",
            "Epoch 33/100\n",
            "270/270 [==============================] - 0s 1ms/step - loss: 0.9805\n",
            "Epoch 34/100\n",
            "270/270 [==============================] - 0s 1ms/step - loss: 0.9727\n",
            "Epoch 35/100\n",
            "270/270 [==============================] - 0s 1ms/step - loss: 0.9641\n",
            "Epoch 36/100\n",
            "270/270 [==============================] - 0s 1ms/step - loss: 0.9592\n",
            "Epoch 37/100\n",
            "270/270 [==============================] - 0s 1ms/step - loss: 0.9522\n",
            "Epoch 38/100\n",
            "270/270 [==============================] - 0s 1ms/step - loss: 0.9420\n",
            "Epoch 39/100\n",
            "270/270 [==============================] - 0s 1ms/step - loss: 0.9383\n",
            "Epoch 40/100\n",
            "270/270 [==============================] - 0s 1ms/step - loss: 0.9390\n",
            "Epoch 41/100\n",
            "270/270 [==============================] - 0s 1ms/step - loss: 0.9310\n",
            "Epoch 42/100\n",
            "270/270 [==============================] - 0s 1ms/step - loss: 0.9280\n",
            "Epoch 43/100\n",
            "270/270 [==============================] - 0s 1ms/step - loss: 0.9227\n",
            "Epoch 44/100\n",
            "270/270 [==============================] - 0s 1ms/step - loss: 0.9253\n",
            "Epoch 45/100\n",
            "270/270 [==============================] - 0s 1ms/step - loss: 0.9174\n",
            "Epoch 46/100\n",
            "270/270 [==============================] - 0s 1ms/step - loss: 0.9164\n",
            "Epoch 47/100\n",
            "270/270 [==============================] - 0s 1ms/step - loss: 0.9096\n",
            "Epoch 48/100\n",
            "270/270 [==============================] - 0s 1ms/step - loss: 0.9163\n",
            "Epoch 49/100\n",
            "270/270 [==============================] - 0s 1ms/step - loss: 0.9097\n",
            "Epoch 50/100\n",
            "270/270 [==============================] - 0s 1ms/step - loss: 0.9051\n",
            "Epoch 51/100\n",
            "270/270 [==============================] - 0s 1ms/step - loss: 0.9056\n",
            "Epoch 52/100\n",
            "270/270 [==============================] - 0s 1ms/step - loss: 0.9026\n",
            "Epoch 53/100\n",
            "270/270 [==============================] - 0s 1ms/step - loss: 0.8997\n",
            "Epoch 54/100\n",
            "270/270 [==============================] - 0s 1ms/step - loss: 0.8983\n",
            "Epoch 55/100\n",
            "270/270 [==============================] - 0s 1ms/step - loss: 0.9018\n",
            "Epoch 56/100\n",
            "270/270 [==============================] - 0s 1ms/step - loss: 0.9042\n",
            "Epoch 57/100\n",
            "270/270 [==============================] - 0s 1ms/step - loss: 0.9008\n",
            "Epoch 58/100\n",
            "270/270 [==============================] - 0s 1ms/step - loss: 0.8988\n",
            "Epoch 59/100\n",
            "270/270 [==============================] - 0s 1ms/step - loss: 0.8937\n",
            "Epoch 60/100\n",
            "270/270 [==============================] - 0s 1ms/step - loss: 0.8967\n",
            "Epoch 61/100\n",
            "270/270 [==============================] - 0s 1ms/step - loss: 0.8971\n",
            "Epoch 62/100\n",
            "270/270 [==============================] - 0s 1ms/step - loss: 0.8962\n",
            "Epoch 63/100\n",
            "270/270 [==============================] - 0s 1ms/step - loss: 0.8961\n",
            "Epoch 64/100\n",
            "270/270 [==============================] - 0s 1ms/step - loss: 0.8921\n",
            "Epoch 65/100\n",
            "270/270 [==============================] - 0s 1ms/step - loss: 0.8975\n",
            "Epoch 66/100\n",
            "270/270 [==============================] - 0s 1ms/step - loss: 0.8968\n",
            "Epoch 67/100\n",
            "270/270 [==============================] - 0s 1ms/step - loss: 0.8921\n",
            "Epoch 68/100\n",
            "270/270 [==============================] - 0s 1ms/step - loss: 0.8915\n",
            "Epoch 69/100\n",
            "270/270 [==============================] - 0s 1ms/step - loss: 0.8925\n",
            "Epoch 70/100\n",
            "270/270 [==============================] - 0s 1ms/step - loss: 0.8991\n",
            "Epoch 71/100\n",
            "270/270 [==============================] - 0s 1ms/step - loss: 0.8985\n",
            "Epoch 72/100\n",
            "270/270 [==============================] - 0s 1ms/step - loss: 0.8937\n",
            "Epoch 73/100\n",
            "270/270 [==============================] - 0s 1ms/step - loss: 0.8936\n",
            "Epoch 74/100\n",
            "270/270 [==============================] - 0s 1ms/step - loss: 0.8935\n",
            "Epoch 75/100\n",
            "270/270 [==============================] - 0s 1ms/step - loss: 0.8908\n",
            "Epoch 76/100\n",
            "270/270 [==============================] - 0s 1ms/step - loss: 0.8907\n",
            "Epoch 77/100\n",
            "270/270 [==============================] - 0s 1ms/step - loss: 0.8886\n",
            "Epoch 78/100\n",
            "270/270 [==============================] - 0s 1ms/step - loss: 0.8959\n",
            "Epoch 79/100\n",
            "270/270 [==============================] - 0s 1ms/step - loss: 0.8917\n",
            "Epoch 80/100\n",
            "270/270 [==============================] - 0s 1ms/step - loss: 0.8962\n",
            "Epoch 81/100\n",
            "270/270 [==============================] - 0s 1ms/step - loss: 0.8895\n",
            "Epoch 82/100\n",
            "270/270 [==============================] - 0s 2ms/step - loss: 0.9011\n",
            "Epoch 83/100\n",
            "270/270 [==============================] - 0s 2ms/step - loss: 0.8929\n",
            "Epoch 84/100\n",
            "270/270 [==============================] - 0s 1ms/step - loss: 0.8963\n",
            "Epoch 85/100\n",
            "270/270 [==============================] - 0s 1ms/step - loss: 0.8935\n",
            "Epoch 86/100\n",
            "270/270 [==============================] - 0s 1ms/step - loss: 0.8928\n",
            "Epoch 87/100\n",
            "270/270 [==============================] - 0s 1ms/step - loss: 0.8897\n",
            "Epoch 88/100\n",
            "270/270 [==============================] - 0s 1ms/step - loss: 0.8932\n",
            "Epoch 89/100\n",
            "270/270 [==============================] - 0s 1ms/step - loss: 0.8918\n",
            "Epoch 90/100\n",
            "270/270 [==============================] - 0s 1ms/step - loss: 0.8947\n",
            "Epoch 91/100\n",
            "270/270 [==============================] - 0s 1ms/step - loss: 0.8942\n",
            "Epoch 92/100\n",
            "270/270 [==============================] - 0s 1ms/step - loss: 0.8881\n",
            "Epoch 93/100\n",
            "270/270 [==============================] - 0s 1ms/step - loss: 0.8924\n",
            "Epoch 94/100\n",
            "270/270 [==============================] - 0s 1ms/step - loss: 0.8916\n",
            "Epoch 95/100\n",
            "270/270 [==============================] - 0s 1ms/step - loss: 0.8967\n",
            "Epoch 96/100\n",
            "270/270 [==============================] - 0s 1ms/step - loss: 0.8898\n",
            "Epoch 97/100\n",
            "270/270 [==============================] - 0s 1ms/step - loss: 0.8892\n",
            "Epoch 98/100\n",
            "270/270 [==============================] - 0s 1ms/step - loss: 0.8927\n",
            "Epoch 99/100\n",
            "270/270 [==============================] - 0s 1ms/step - loss: 0.8966\n",
            "Epoch 100/100\n",
            "270/270 [==============================] - 0s 1ms/step - loss: 0.8920\n"
          ]
        },
        {
          "output_type": "execute_result",
          "data": {
            "text/plain": [
              "<keras.callbacks.History at 0x7f10bac14210>"
            ]
          },
          "metadata": {},
          "execution_count": 44
        }
      ]
    }
  ]
}